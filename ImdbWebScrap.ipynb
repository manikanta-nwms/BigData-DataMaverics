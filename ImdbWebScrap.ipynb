{
 "cells": [
  {
   "cell_type": "markdown",
   "id": "301ec9f2-0b7b-4971-8fa2-21bec0af735c",
   "metadata": {},
   "source": [
    "## Cleaning data manipulating data. having some empty data rows need to delete"
   ]
  },
  {
   "cell_type": "code",
   "execution_count": 4,
   "id": "bf600170-feac-4f2b-ae08-dd1dd84623e9",
   "metadata": {},
   "outputs": [],
   "source": [
    "import pandas as pd\n",
    "\n",
    "\n",
    "df = pd.read_csv('top_250movies_96_22.csv', delimiter=',')\n",
    "\n",
    "# Renaming the columns for better readability\n",
    "df = df.rename(columns={'Ranking': 'Rank', 'IMDByear': 'Year', 'IMDBlink': 'Link', 'RunTime': 'Duration','Genre':'Genre',\n",
    "                        'Cast1': 'Actor1', 'Cast2': 'Actor2', 'Cast3': 'Actor3',\n",
    "                        'Cast4': 'Actor4'})\n",
    "\n",
    "#remove score \n",
    "df = df.drop(['Score'], axis=1)\n",
    "\n",
    "\n",
    "\n",
    "\n",
    "df[['Genre1', 'Genre2', 'Genre3']] = df['Genre'].str.split(',', expand=True)\n",
    "\n",
    "# Reordering the columns for better readability\n",
    "df = df[['Rank', 'Title', 'Year', 'Duration', 'Genre1', 'Genre2', 'Genre3', 'Rating', 'Votes', 'Director', 'Actor1', 'Actor2', 'Actor3', 'Actor4', 'Link']]\n",
    "\n",
    "\n",
    "df.to_csv('manipulated_data96-22.csv', index=False)\n",
    "\n",
    "\n"
   ]
  },
  {
   "cell_type": "markdown",
   "id": "27edf222-f4e0-4d9a-8dff-10fa5069cfb6",
   "metadata": {},
   "source": [
    "#### Read maanipulated data and remove link column which is not useful "
   ]
  },
  {
   "cell_type": "code",
   "execution_count": 22,
   "id": "7a744b6a-b232-4e79-834f-0d1ef7c0d8b4",
   "metadata": {},
   "outputs": [],
   "source": [
    "df = pd.read_csv('manipulated_data96-22.csv')\n",
    "\n",
    "\n",
    "df = df.drop(['Link'], axis=1)\n"
   ]
  },
  {
   "cell_type": "markdown",
   "id": "a4edeb26-2783-4f6e-8a3b-16d6f0ea1aae",
   "metadata": {},
   "source": [
    "#### Drop any row that has missing data in the particula column\n",
    "#### Saving the new data without empty rows as a new CSV file"
   ]
  },
  {
   "cell_type": "code",
   "execution_count": 23,
   "id": "d43a3b35-44f4-4bd1-84de-6483dd9448d1",
   "metadata": {},
   "outputs": [],
   "source": [
    "\n",
    "movie_data_columns = ['Title', 'Year', 'Rating']\n",
    "df.dropna(subset=movie_data_columns, inplace=True)"
   ]
  },
  {
   "cell_type": "code",
   "execution_count": 24,
   "id": "d81761f8-4011-4fe2-b95d-126b4029b0f5",
   "metadata": {},
   "outputs": [],
   "source": [
    "df.to_csv('cleaned_data96-22.csv', index=False)"
   ]
  },
  {
   "cell_type": "code",
   "execution_count": null,
   "id": "41726e9d-2c7c-4513-a77d-fa0b1bc056c9",
   "metadata": {},
   "outputs": [],
   "source": []
  }
 ],
 "metadata": {
  "kernelspec": {
   "display_name": "Python 3 (ipykernel)",
   "language": "python",
   "name": "python3"
  },
  "language_info": {
   "codemirror_mode": {
    "name": "ipython",
    "version": 3
   },
   "file_extension": ".py",
   "mimetype": "text/x-python",
   "name": "python",
   "nbconvert_exporter": "python",
   "pygments_lexer": "ipython3",
   "version": "3.10.6"
  }
 },
 "nbformat": 4,
 "nbformat_minor": 5
}
